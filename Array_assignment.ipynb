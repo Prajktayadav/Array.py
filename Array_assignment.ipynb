{
  "nbformat": 4,
  "nbformat_minor": 0,
  "metadata": {
    "colab": {
      "provenance": []
    },
    "kernelspec": {
      "name": "python3",
      "display_name": "Python 3"
    },
    "language_info": {
      "name": "python"
    }
  },
  "cells": [
    {
      "cell_type": "code",
      "execution_count": 1,
      "metadata": {
        "colab": {
          "base_uri": "https://localhost:8080/"
        },
        "id": "mpemx89eSqyS",
        "outputId": "a9ed498f-663c-4805-b08a-337bdfb4e808"
      },
      "outputs": [
        {
          "output_type": "stream",
          "name": "stdout",
          "text": [
            "True\n"
          ]
        }
      ],
      "source": [
        "#1.Given an array, check if it contains any duplicates or not.\n",
        "#arr = [1, 2, 4, 2, 5, 9]\n",
        "#Output = True\n",
        "\n",
        "class array:\n",
        "  def duplicate(self,list1):\n",
        "    new_value = set(list1)\n",
        "\n",
        "    if len(new_value) == len(list1):\n",
        "      return 'False'\n",
        "    else:\n",
        "      return 'True'\n",
        "\n",
        "nums = [1,2,4,2,5,9]\n",
        "obj = array()\n",
        "print(obj.duplicate(nums))\n",
        "\n"
      ]
    },
    {
      "cell_type": "code",
      "source": [
        "#2.Given an array and an integer k, rotate the array to the right by k steps.\n",
        "#arr=[1,2,3,4,5,6,7]k=3\n",
        "#output=[5,6,7,1,2,3,4]\n",
        "\n",
        "def rightRotate(lists,num):\n",
        "  output_list = []\n",
        "\n",
        "  for i in range(len(lists) - num,len(lists)):\n",
        "    output_list.append(lists[i])\n",
        "\n",
        "  return output_list\n",
        "\n",
        "rotate_num = 3\n",
        "list_1 = [1,2,3,4,5,6,7]\n",
        "\n",
        "print(rightRotate(list_1,rotate_num))\n",
        "\n",
        "\n",
        "\n"
      ],
      "metadata": {
        "colab": {
          "base_uri": "https://localhost:8080/"
        },
        "id": "I1J9CSnpTrCt",
        "outputId": "b0a21769-bc28-472a-b494-03e4dcdc630d"
      },
      "execution_count": 4,
      "outputs": [
        {
          "output_type": "stream",
          "name": "stdout",
          "text": [
            "[5, 6, 7]\n"
          ]
        }
      ]
    },
    {
      "cell_type": "code",
      "source": [
        "#3. Reverse the given array in-place, means without using any extra data structure.\n",
        "#arr=[2,4,5,7,9,12]\n",
        "#output = [12,9,7,5,4,2]\n",
        "\n",
        "arr = [2,4,5,7,9,12]\n",
        "arr.reverse()\n",
        "print(arr)\n"
      ],
      "metadata": {
        "colab": {
          "base_uri": "https://localhost:8080/"
        },
        "id": "SCcQf79HU9mS",
        "outputId": "7c1f682f-8c2f-46b8-c553-4c469d6ebab9"
      },
      "execution_count": 5,
      "outputs": [
        {
          "output_type": "stream",
          "name": "stdout",
          "text": [
            "[12, 9, 7, 5, 4, 2]\n"
          ]
        }
      ]
    },
    {
      "cell_type": "code",
      "source": [
        "#4. Given an array of integers, find the maximum element in an array\n",
        "#arr = [10, 5, 20, 8, 15]\n",
        "#Output = 20\n",
        "\n",
        "\n",
        "a = [10,5,20,8,15]\n",
        "max_element = a[0]\n",
        "\n",
        "for i in range(len(a)):\n",
        "  if a[i] > max_element:\n",
        "    max_element = a[i]\n",
        "\n",
        "print(max_element)"
      ],
      "metadata": {
        "colab": {
          "base_uri": "https://localhost:8080/"
        },
        "id": "zBH_r2ReVkuN",
        "outputId": "83a1986c-e955-48a3-b473-ab508df1a45b"
      },
      "execution_count": 7,
      "outputs": [
        {
          "output_type": "stream",
          "name": "stdout",
          "text": [
            "20\n"
          ]
        }
      ]
    },
    {
      "cell_type": "code",
      "source": [
        "#5. Given a sorted array, remove the duplicate element without using any extra data structure.\n",
        "#arr = [1, 1, 2, 2, 2, 3, 3, 4, 4, 4, 5, 5]\n",
        "#Output = [1, 2, 3, 4, 5]\n",
        "\n",
        "def Remove(duplicate):\n",
        "  final_list = []\n",
        "  for num in duplicate:\n",
        "    if num not in final_list:\n",
        "      final_list.append(num)\n",
        "  return final_list\n",
        "duplicate = [1,1,2,2,2,3,3,4,4,4,5,5]\n",
        "print(Remove(duplicate))\n",
        "\n"
      ],
      "metadata": {
        "colab": {
          "base_uri": "https://localhost:8080/"
        },
        "id": "kbo9wWDuWFO5",
        "outputId": "e9e655ef-2133-4cf0-cfb9-a56468fc4491"
      },
      "execution_count": 8,
      "outputs": [
        {
          "output_type": "stream",
          "name": "stdout",
          "text": [
            "[1, 2, 3, 4, 5]\n"
          ]
        }
      ]
    },
    {
      "cell_type": "code",
      "source": [],
      "metadata": {
        "id": "ahKVzX4FW80P"
      },
      "execution_count": 9,
      "outputs": []
    },
    {
      "cell_type": "code",
      "source": [],
      "metadata": {
        "id": "irlqzGyzXDJs"
      },
      "execution_count": null,
      "outputs": []
    }
  ]
}