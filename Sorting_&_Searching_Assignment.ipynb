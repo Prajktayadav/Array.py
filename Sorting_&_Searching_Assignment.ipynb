{
  "nbformat": 4,
  "nbformat_minor": 0,
  "metadata": {
    "colab": {
      "provenance": [],
      "authorship_tag": "ABX9TyPLvl2lB/sP/FabZ9jZKrMu",
      "include_colab_link": true
    },
    "kernelspec": {
      "name": "python3",
      "display_name": "Python 3"
    },
    "language_info": {
      "name": "python"
    }
  },
  "cells": [
    {
      "cell_type": "markdown",
      "metadata": {
        "id": "view-in-github",
        "colab_type": "text"
      },
      "source": [
        "<a href=\"https://colab.research.google.com/github/Prajktayadav/Array.py/blob/main/Sorting_%26_Searching_Assignment.ipynb\" target=\"_parent\"><img src=\"https://colab.research.google.com/assets/colab-badge.svg\" alt=\"Open In Colab\"/></a>"
      ]
    },
    {
      "cell_type": "code",
      "execution_count": 1,
      "metadata": {
        "colab": {
          "base_uri": "https://localhost:8080/"
        },
        "id": "1kLfTY_gsEFs",
        "outputId": "d451e3aa-a884-428c-915d-bc3f61c4462e"
      },
      "outputs": [
        {
          "output_type": "stream",
          "name": "stdout",
          "text": [
            "Intersection of A and B: [5]\n"
          ]
        }
      ],
      "source": [
        "#Problem 1 :\n",
        "#Intersection of Two Sorted Arrays\n",
        "#Write a Python program to find the intersection of two sorted arrays.\n",
        "\n",
        "\n",
        "def find_intersection(A,B):\n",
        "  intersection = []\n",
        "  i,j = 0,0\n",
        "  while i < len(A) and j < len(B):\n",
        "    if A[i] == B[j]:\n",
        "      intersection.append(A[i])\n",
        "      i += 1\n",
        "      j += 1\n",
        "    elif A[i] < B[j]:\n",
        "      i += 1\n",
        "    else:\n",
        "      j += 1\n",
        "  return intersection\n",
        "\n",
        "A = [1,3,5,7,9]\n",
        "B = [2,4,5,8]\n",
        "result = find_intersection(A,B)\n",
        "print(\"Intersection of A and B:\",result)"
      ]
    },
    {
      "cell_type": "code",
      "source": [
        "#Problem 2 :\n",
        "#Find the Kth Smallest Element\n",
        "#Write a Python function to find the kth smallest element in an unsorted list.\n",
        "\n",
        "\n",
        "import random\n",
        "\n",
        "def find_kth_smallest(nums, k):\n",
        "    # Check if k is within the valid range\n",
        "    if k < 1 or k > len(nums):\n",
        "        raise ValueError(\"k is out of the valid range\")\n",
        "\n",
        "    # Convert k to index (0-based index)\n",
        "    k -= 1\n",
        "\n",
        "    # Perform the quickselect algorithm\n",
        "    return quickselect(nums, 0, len(nums) - 1, k)\n",
        "\n",
        "def quickselect(nums, left, right, k):\n",
        "    if left == right:\n",
        "        return nums[left]\n",
        "\n",
        "    pivot_index = random.randint(left, right)\n",
        "    pivot_index = partition(nums, left, right, pivot_index)\n",
        "\n",
        "    if k == pivot_index:\n",
        "        return nums[k]\n",
        "    elif k < pivot_index:\n",
        "        return quickselect(nums, left, pivot_index - 1, k)\n",
        "    else:\n",
        "        return quickselect(nums, pivot_index + 1, right, k)\n",
        "\n",
        "def partition(nums, left, right, pivot_index):\n",
        "    pivot_value = nums[pivot_index]\n",
        "    nums[pivot_index], nums[right] = nums[right], nums[pivot_index]\n",
        "    store_index = left\n",
        "    for i in range(left, right):\n",
        "        if nums[i] < pivot_value:\n",
        "            nums[store_index], nums[i] = nums[i], nums[store_index]\n",
        "            store_index += 1\n",
        "    nums[right], nums[store_index] = nums[store_index], nums[right]\n",
        "    return store_index\n",
        "\n",
        "nums = [12, 3, 1, 7, 8, 20]\n",
        "k = 3\n",
        "result = find_kth_smallest(nums, k)\n",
        "print(f\"The {k}th smallest element is:\", result)\n"
      ],
      "metadata": {
        "colab": {
          "base_uri": "https://localhost:8080/"
        },
        "id": "RqRtz5cxtdXp",
        "outputId": "a6efee64-f9f3-4650-a5ce-bf98f63101fc"
      },
      "execution_count": 3,
      "outputs": [
        {
          "output_type": "stream",
          "name": "stdout",
          "text": [
            "The 3th smallest element is: 7\n"
          ]
        }
      ]
    },
    {
      "cell_type": "code",
      "source": [
        "#Problem 3 :\n",
        "#Binary Search in a Rotated Sorted Array\n",
        "#Implement a Python program to perform a binary search on a rotated sorted array.\n",
        "\n",
        "\n",
        "\n",
        "def search_in_rotated_sorted_array(nums, target):\n",
        "    left, right = 0, len(nums) - 1\n",
        "\n",
        "    while left <= right:\n",
        "        mid = (left + right) // 2\n",
        "\n",
        "        if nums[mid] == target:\n",
        "            return mid\n",
        "\n",
        "        if nums[left] <= nums[mid]:\n",
        "            if nums[left] <= target < nums[mid]:\n",
        "                right = mid - 1\n",
        "            else:\n",
        "                left = mid + 1\n",
        "        else:\n",
        "            if nums[mid] < target <= nums[right]:\n",
        "                left = mid + 1\n",
        "            else:\n",
        "                right = mid - 1\n",
        "\n",
        "    return -1\n",
        "\n",
        "nums = [4, 5, 6, 7, 8, 9, 1, 2, 3]\n",
        "target = 6\n",
        "index = search_in_rotated_sorted_array(nums, target)\n",
        "print(f\"Index of {target}:\", index)\n"
      ],
      "metadata": {
        "colab": {
          "base_uri": "https://localhost:8080/"
        },
        "id": "I2618b6It2AF",
        "outputId": "aa023479-4fee-4b89-e49b-6ae426a23f6f"
      },
      "execution_count": 4,
      "outputs": [
        {
          "output_type": "stream",
          "name": "stdout",
          "text": [
            "Index of 6: 2\n"
          ]
        }
      ]
    },
    {
      "cell_type": "code",
      "source": [
        "#Problem 4 :\n",
        "#Searching in a Matrix\n",
        "#Write a Python program that searches for a given element in a 2D matrix and returns its position.\n",
        "\n",
        "\n",
        "def search_in_matrix(matrix, target):\n",
        "    if not matrix or not matrix[0]:\n",
        "        return None\n",
        "\n",
        "    rows = len(matrix)\n",
        "    cols = len(matrix[0])\n",
        "\n",
        "    row = 0\n",
        "    col = cols - 1\n",
        "\n",
        "    while row < rows and col >= 0:\n",
        "        if matrix[row][col] == target:\n",
        "            return (row, col)\n",
        "        elif matrix[row][col] < target:\n",
        "            row += 1\n",
        "        else:\n",
        "            col -= 1\n",
        "\n",
        "    return None\n",
        "\n",
        "Matrix = [\n",
        "    [1, 3, 5],\n",
        "    [7, 9, 11],\n",
        "    [13, 15, 17]\n",
        "]\n",
        "Element = 11\n",
        "\n",
        "position = search_in_matrix(Matrix, Element)\n",
        "if position:\n",
        "    print(f\"Element {Element} found at position:\", position)\n",
        "else:\n",
        "    print(f\"Element {Element} not found in the matrix.\")\n",
        "\n"
      ],
      "metadata": {
        "colab": {
          "base_uri": "https://localhost:8080/"
        },
        "id": "MHHpdQNXuUjW",
        "outputId": "4c237065-f99e-44fb-d2e5-a98d60821c7b"
      },
      "execution_count": 5,
      "outputs": [
        {
          "output_type": "stream",
          "name": "stdout",
          "text": [
            "Element 11 found at position: (1, 2)\n"
          ]
        }
      ]
    },
    {
      "cell_type": "code",
      "source": [
        "#Problem 5 :\n",
        "#Sorting Strings by Length\n",
        "#Write a Python program that takes a list of strings and sorts them based on their length.\n",
        "\n",
        "\n",
        "def sort_strings_by_length(strings):\n",
        "    sorted_strings = sorted(strings, key=len)\n",
        "    return sorted_strings\n",
        "\n",
        "strings = ['apple', 'banana', 'kiwi', 'orange', 'grape']\n",
        "sorted_strings = sort_strings_by_length(strings)\n",
        "print(\"Sorted strings by length:\", sorted_strings)\n",
        "\n"
      ],
      "metadata": {
        "colab": {
          "base_uri": "https://localhost:8080/"
        },
        "id": "S_ro1im4ur8D",
        "outputId": "132e778b-2f3e-4298-8b63-a861c66f08db"
      },
      "execution_count": 8,
      "outputs": [
        {
          "output_type": "stream",
          "name": "stdout",
          "text": [
            "Sorted strings by length: ['kiwi', 'apple', 'grape', 'banana', 'orange']\n"
          ]
        }
      ]
    },
    {
      "cell_type": "code",
      "source": [
        "#Problem 6 :\n",
        "#Implementing the merge sort ( Will be discussed in the class )\n",
        "\n",
        "\n",
        "\n",
        "def merge_sort(arr):\n",
        "    if len(arr) <= 1:\n",
        "        return arr\n",
        "\n",
        "    mid = len(arr) // 2\n",
        "    left_half = arr[:mid]\n",
        "    right_half = arr[mid:]\n",
        "\n",
        "    left_half = merge_sort(left_half)\n",
        "    right_half = merge_sort(right_half)\n",
        "\n",
        "    return merge(left_half, right_half)\n",
        "\n",
        "def merge(left, right):\n",
        "    sorted_arr = []\n",
        "    i = j = 0\n",
        "\n",
        "    while i < len(left) and j < len(right):\n",
        "        if left[i] <= right[j]:\n",
        "            sorted_arr.append(left[i])\n",
        "            i += 1\n",
        "        else:\n",
        "            sorted_arr.append(right[j])\n",
        "            j += 1\n",
        "\n",
        "    sorted_arr.extend(left[i:])\n",
        "    sorted_arr.extend(right[j:])\n",
        "\n",
        "    return sorted_arr\n",
        "\n",
        "arr = [12, 11, 13, 5, 6, 7]\n",
        "sorted_arr = merge_sort(arr)\n",
        "print(\"Sorted array:\", sorted_arr)\n"
      ],
      "metadata": {
        "colab": {
          "base_uri": "https://localhost:8080/"
        },
        "id": "GggVYBkgvECZ",
        "outputId": "0349396e-1904-4378-a8ea-5974a2f82564"
      },
      "execution_count": 9,
      "outputs": [
        {
          "output_type": "stream",
          "name": "stdout",
          "text": [
            "Sorted array: [5, 6, 7, 11, 12, 13]\n"
          ]
        }
      ]
    },
    {
      "cell_type": "code",
      "source": [
        "#Problem 7 :\n",
        "#Implementing the quick sort ( will be discussed in the class )\n",
        "\n",
        "\n",
        "\n",
        "def quick_sort(arr):\n",
        "    if len(arr) <= 1:\n",
        "        return arr\n",
        "\n",
        "    pivot = arr[len(arr) - 1]\n",
        "    left = []\n",
        "    right = []\n",
        "    equal = []\n",
        "\n",
        "    for num in arr:\n",
        "        if num < pivot:\n",
        "            left.append(num)\n",
        "        elif num > pivot:\n",
        "            right.append(num)\n",
        "        else:\n",
        "            equal.append(num)\n",
        "\n",
        "    return quick_sort(left) + equal + quick_sort(right)\n",
        "\n",
        "arr = [12, 4, 11, 15, 6, 7, 3]\n",
        "sorted_arr = quick_sort(arr)\n",
        "print(\"Sorted array:\", sorted_arr)\n",
        "\n"
      ],
      "metadata": {
        "colab": {
          "base_uri": "https://localhost:8080/"
        },
        "id": "vO8SybTKvqFz",
        "outputId": "20773786-30b0-461c-9cf9-c81e6dd4e6a2"
      },
      "execution_count": 10,
      "outputs": [
        {
          "output_type": "stream",
          "name": "stdout",
          "text": [
            "Sorted array: [3, 4, 6, 7, 11, 12, 15]\n"
          ]
        }
      ]
    },
    {
      "cell_type": "code",
      "source": [
        "#Problem 8 :\n",
        "#Implementing the count sort ( will be discussed in the class )\n",
        "\n",
        "\n",
        "def counting_sort(arr):\n",
        "    max_value = max(arr)\n",
        "\n",
        "    count = [0] * (max_value + 1)\n",
        "\n",
        "    for num in arr:\n",
        "        count[num] += 1\n",
        "\n",
        "    sorted_arr = []\n",
        "    for num in range(max_value + 1):\n",
        "        if count[num] > 0:\n",
        "            sorted_arr.extend([num] * count[num])\n",
        "\n",
        "    return sorted_arr\n",
        "\n",
        "arr = [4, 2, 2, 8, 3, 3, 1]\n",
        "sorted_arr = counting_sort(arr)\n",
        "print(\"Sorted array:\", sorted_arr)\n"
      ],
      "metadata": {
        "colab": {
          "base_uri": "https://localhost:8080/"
        },
        "id": "tCmcTkR8v_3W",
        "outputId": "caafea4a-3af1-4de5-d953-4130948946d8"
      },
      "execution_count": 11,
      "outputs": [
        {
          "output_type": "stream",
          "name": "stdout",
          "text": [
            "Sorted array: [1, 2, 2, 3, 3, 4, 8]\n"
          ]
        }
      ]
    },
    {
      "cell_type": "code",
      "source": [
        "#Problem 9 :\n",
        "#Implement a Python function to find a peak element in an array. A peak element is an element that is greater\n",
        "#than or equal to its neighbors.\n",
        "\n",
        "\n",
        "def find_peak_element(nums):\n",
        "    left, right = 0, len(nums) - 1\n",
        "\n",
        "    while left < right:\n",
        "        mid = (left + right) // 2\n",
        "\n",
        "        if nums[mid] > nums[mid + 1]:\n",
        "            right = mid\n",
        "        else:\n",
        "            left = mid + 1\n",
        "\n",
        "    return left\n",
        "\n",
        "nums = [1, 3,20,4,1,0]\n",
        "peak_index = find_peak_element(nums)\n",
        "print(\"Peak element:\", nums[peak_index])\n",
        "\n"
      ],
      "metadata": {
        "colab": {
          "base_uri": "https://localhost:8080/"
        },
        "id": "Ln9HBCjzwTvM",
        "outputId": "641c86d3-2b3c-4051-894f-842e8c2febb1"
      },
      "execution_count": 13,
      "outputs": [
        {
          "output_type": "stream",
          "name": "stdout",
          "text": [
            "Peak element: 20\n"
          ]
        }
      ]
    },
    {
      "cell_type": "code",
      "source": [
        "#Problem 10 :\n",
        "#Search in a Nearly Sorted Array\n",
        "#Implement a Python program to perform a binary search in a nearly sorted array. In a nearly sorted array, each\n",
        "#element is at most k positions away from its sorted position.\n",
        "\n",
        "\n",
        "\n",
        "def search_in_nearly_sorted_array(arr, target, k):\n",
        "    left, right = 0, len(arr) - 1\n",
        "\n",
        "    while left <= right:\n",
        "        mid = (left + right) // 2\n",
        "\n",
        "        if arr[mid] == target:\n",
        "            return mid\n",
        "\n",
        "        for i in range(max(0, mid - k), min(len(arr), mid + k + 1)):\n",
        "            if arr[i] == target:\n",
        "                return i\n",
        "\n",
        "        if arr[mid] < target:\n",
        "            left = mid + 1\n",
        "        else:\n",
        "            right = mid - 1\n",
        "\n",
        "    return -1\n",
        "\n",
        "arr = [2, 1, 3, 4, 6, 5, 7]\n",
        "target = 5\n",
        "k = 1\n",
        "index = search_in_nearly_sorted_array(arr, target, k)\n",
        "if index != -1:\n",
        "    print(f\"Target {target} found at index:\", index)\n",
        "else:\n",
        "    print(f\"Target {target} not found in the array.\")\n",
        "\n"
      ],
      "metadata": {
        "colab": {
          "base_uri": "https://localhost:8080/"
        },
        "id": "dvr4VC7hwtSz",
        "outputId": "77d85e7e-5c85-4cad-8aee-df7249581117"
      },
      "execution_count": 16,
      "outputs": [
        {
          "output_type": "stream",
          "name": "stdout",
          "text": [
            "Target 5 found at index: 5\n"
          ]
        }
      ]
    },
    {
      "cell_type": "code",
      "source": [],
      "metadata": {
        "id": "-lRJvvAMxWYm"
      },
      "execution_count": null,
      "outputs": []
    }
  ]
}