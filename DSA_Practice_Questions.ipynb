{
  "nbformat": 4,
  "nbformat_minor": 0,
  "metadata": {
    "colab": {
      "provenance": [],
      "authorship_tag": "ABX9TyO9zGvPPgaiRD3WxtGxIWs8",
      "include_colab_link": true
    },
    "kernelspec": {
      "name": "python3",
      "display_name": "Python 3"
    },
    "language_info": {
      "name": "python"
    }
  },
  "cells": [
    {
      "cell_type": "markdown",
      "metadata": {
        "id": "view-in-github",
        "colab_type": "text"
      },
      "source": [
        "<a href=\"https://colab.research.google.com/github/Prajktayadav/Array.py/blob/main/DSA_Practice_Questions.ipynb\" target=\"_parent\"><img src=\"https://colab.research.google.com/assets/colab-badge.svg\" alt=\"Open In Colab\"/></a>"
      ]
    },
    {
      "cell_type": "code",
      "execution_count": 1,
      "metadata": {
        "colab": {
          "base_uri": "https://localhost:8080/"
        },
        "id": "VCe9HQj4y3Cx",
        "outputId": "3a68d51f-0da1-41f0-f8b0-cc9965effb08"
      },
      "outputs": [
        {
          "output_type": "stream",
          "name": "stdout",
          "text": [
            "Doubly linked list (forward):\n",
            "0 1 2 3 \n",
            "Doubly linked list (backward):\n",
            "3 2 1 0 \n"
          ]
        }
      ],
      "source": [
        "#1.Define a doubly linked list.\n",
        "\n",
        "\n",
        "class Node:\n",
        "    def __init__(self, data=None):\n",
        "        self.data = data\n",
        "        self.prev = None\n",
        "        self.next = None\n",
        "\n",
        "class DoublyLinkedList:\n",
        "    def __init__(self):\n",
        "        self.head = None\n",
        "\n",
        "    def insert_at_beginning(self, data):\n",
        "        new_node = Node(data)\n",
        "        if self.head is None:\n",
        "            self.head = new_node\n",
        "        else:\n",
        "            new_node.next = self.head\n",
        "            self.head.prev = new_node\n",
        "            self.head = new_node\n",
        "\n",
        "    def insert_at_end(self, data):\n",
        "        new_node = Node(data)\n",
        "        if self.head is None:\n",
        "            self.head = new_node\n",
        "        else:\n",
        "            current = self.head\n",
        "            while current.next:\n",
        "                current = current.next\n",
        "            current.next = new_node\n",
        "            new_node.prev = current\n",
        "\n",
        "    def print_forward(self):\n",
        "        current = self.head\n",
        "        while current:\n",
        "            print(current.data, end=\" \")\n",
        "            current = current.next\n",
        "        print()\n",
        "\n",
        "    def print_backward(self):\n",
        "        current = self.head\n",
        "        if current is None:\n",
        "            return\n",
        "        while current.next:\n",
        "            current = current.next\n",
        "        while current:\n",
        "            print(current.data, end=\" \")\n",
        "            current = current.prev\n",
        "        print()\n",
        "\n",
        "dll = DoublyLinkedList()\n",
        "dll.insert_at_end(1)\n",
        "dll.insert_at_end(2)\n",
        "dll.insert_at_end(3)\n",
        "dll.insert_at_beginning(0)\n",
        "\n",
        "print(\"Doubly linked list (forward):\")\n",
        "dll.print_forward()\n",
        "\n",
        "print(\"Doubly linked list (backward):\")\n",
        "dll.print_backward()\n"
      ]
    },
    {
      "cell_type": "code",
      "source": [
        "#2.Write a function to reverse a linked list in-place.\n",
        "\n",
        "class ListNode:\n",
        "    def __init__(self, val=0, next=None):\n",
        "        self.val = val\n",
        "        self.next = next\n",
        "\n",
        "def reverse_linked_list(head):\n",
        "    prev = None\n",
        "    current = head\n",
        "\n",
        "    while current:\n",
        "        next_node = current.next\n",
        "        current.next = prev\n",
        "        prev = current\n",
        "        current = next_node\n",
        "\n",
        "    return prev\n",
        "def print_linked_list(head):\n",
        "    current = head\n",
        "    while current:\n",
        "        print(current.val, end=\" \")\n",
        "        current = current.next\n",
        "    print()\n",
        "\n",
        "\n",
        "head = ListNode(1)\n",
        "head.next = ListNode(2)\n",
        "head.next.next = ListNode(3)\n",
        "head.next.next.next = ListNode(4)\n",
        "head.next.next.next.next = ListNode(5)\n",
        "\n",
        "\n",
        "\n",
        "head = reverse_linked_list(head)\n",
        "\n",
        "print(\"Reversed linked list:\")\n",
        "print_linked_list(head)\n"
      ],
      "metadata": {
        "colab": {
          "base_uri": "https://localhost:8080/"
        },
        "id": "zZG-1cwuzcZA",
        "outputId": "1df6310a-175b-41b3-bb47-34cbcd9ff730"
      },
      "execution_count": 3,
      "outputs": [
        {
          "output_type": "stream",
          "name": "stdout",
          "text": [
            "Reversed linked list:\n",
            "5 4 3 2 1 \n"
          ]
        }
      ]
    },
    {
      "cell_type": "code",
      "source": [
        "#3.Detect cycle in a linked list.\n",
        "\n",
        "\n",
        "class ListNode:\n",
        "    def __init__(self, val=0, next=None):\n",
        "        self.val = val\n",
        "        self.next = next\n",
        "\n",
        "def has_cycle(head):\n",
        "    if not head or not head.next:\n",
        "        return False\n",
        "\n",
        "    slow = head\n",
        "    fast = head.next\n",
        "\n",
        "    while slow != fast:\n",
        "        if not fast or not fast.next:\n",
        "            return False\n",
        "        slow = slow.next\n",
        "        fast = fast.next.next\n",
        "\n",
        "    return True\n",
        "\n",
        "head = ListNode(1)\n",
        "head.next = ListNode(2)\n",
        "head.next.next = ListNode(3)\n",
        "head.next.next.next = ListNode(4)\n",
        "head.next.next.next.next = ListNode(5)\n",
        "head.next.next.next.next.next = head.next.next\n",
        "\n",
        "cycle_exists = has_cycle(head)\n",
        "if cycle_exists:\n",
        "    print(\"Linked list has a cycle.\")\n",
        "else:\n",
        "    print(\"Linked list does not have a cycle.\")\n"
      ],
      "metadata": {
        "colab": {
          "base_uri": "https://localhost:8080/"
        },
        "id": "--czuLgn0VCF",
        "outputId": "15b2f448-f906-4ac6-f198-a122533a4c84"
      },
      "execution_count": 4,
      "outputs": [
        {
          "output_type": "stream",
          "name": "stdout",
          "text": [
            "Linked list has a cycle.\n"
          ]
        }
      ]
    },
    {
      "cell_type": "code",
      "source": [
        "#4.Merge two sorted linked list into one.\n",
        "\n",
        "\n",
        "class ListNode:\n",
        "    def __init__(self, val=0, next=None):\n",
        "        self.val = val\n",
        "        self.next = next\n",
        "\n",
        "def merge_two_lists(l1, l2):\n",
        "    dummy = ListNode(0)\n",
        "    current = dummy\n",
        "\n",
        "    while l1 and l2:\n",
        "        if l1.val <= l2.val:\n",
        "            current.next = l1\n",
        "            l1 = l1.next\n",
        "        else:\n",
        "            current.next = l2\n",
        "            l2 = l2.next\n",
        "        current = current.next\n",
        "\n",
        "    if l1:\n",
        "        current.next = l1\n",
        "    elif l2:\n",
        "        current.next = l2\n",
        "\n",
        "    return dummy.next\n",
        "\n",
        "def print_linked_list(head):\n",
        "    current = head\n",
        "    while current:\n",
        "        print(current.val, end=\" -> \")\n",
        "        current = current.next\n",
        "    print(\"null\")\n",
        "\n",
        "\n",
        "l1 = ListNode(1)\n",
        "l1.next = ListNode(3)\n",
        "l1.next.next = ListNode(5)\n",
        "l1.next.next.next = ListNode(6)\n",
        "\n",
        "l2 = ListNode(2)\n",
        "l2.next = ListNode(4)\n",
        "l2.next.next = ListNode(6)\n",
        "l2.next.next.next = ListNode(8)\n",
        "\n",
        "merged_list = merge_two_lists(l1, l2)\n",
        "\n",
        "print(\"Merged linked list:\")\n",
        "print_linked_list(merged_list)\n"
      ],
      "metadata": {
        "colab": {
          "base_uri": "https://localhost:8080/"
        },
        "id": "AQPDWmEP0v-0",
        "outputId": "b1dbad6e-9e7e-4566-944f-d076f4737f2c"
      },
      "execution_count": 7,
      "outputs": [
        {
          "output_type": "stream",
          "name": "stdout",
          "text": [
            "Merged linked list:\n",
            "1 -> 2 -> 3 -> 4 -> 5 -> 6 -> 6 -> 8 -> null\n"
          ]
        }
      ]
    },
    {
      "cell_type": "code",
      "source": [
        "#5.Write a function to remove nth node from the end in a linked list.\n",
        "\n",
        "\n",
        "\n",
        "class ListNode:\n",
        "    def __init__(self, val=0, next=None):\n",
        "        self.val = val\n",
        "        self.next = next\n",
        "\n",
        "def remove_nth_from_end(head, n):\n",
        "    dummy = ListNode(0)\n",
        "    dummy.next = head\n",
        "    slow = dummy\n",
        "    fast = dummy\n",
        "\n",
        "    for _ in range(n + 1):\n",
        "        if fast is None:\n",
        "            return head\n",
        "        fast = fast.next\n",
        "\n",
        "    while fast:\n",
        "        slow = slow.next\n",
        "        fast = fast.next\n",
        "\n",
        "    slow.next = slow.next.next\n",
        "\n",
        "    return dummy.next\n",
        "\n",
        "def print_linked_list(head):\n",
        "    current = head\n",
        "    while current:\n",
        "        print(current.val, end=\" -> \")\n",
        "        current = current.next\n",
        "\n",
        "\n",
        "head = ListNode(1)\n",
        "head.next = ListNode(2)\n",
        "head.next.next = ListNode(3)\n",
        "head.next.next.next = ListNode(4)\n",
        "head.next.next.next.next = ListNode(5)\n",
        "\n",
        "n = 2\n",
        "\n",
        "head = remove_nth_from_end(head, n)\n",
        "\n",
        "print(f\"After removing {n}th node from the end:\")\n",
        "print_linked_list(head)\n"
      ],
      "metadata": {
        "colab": {
          "base_uri": "https://localhost:8080/"
        },
        "id": "ezA38bpO1Ry6",
        "outputId": "bcc1b823-adfe-46da-b89e-4a69757bb8d9"
      },
      "execution_count": 11,
      "outputs": [
        {
          "output_type": "stream",
          "name": "stdout",
          "text": [
            "After removing 2th node from the end:\n",
            "1 -> 2 -> 3 -> 5 -> "
          ]
        }
      ]
    },
    {
      "cell_type": "code",
      "source": [
        "#6.Remove duplicate from a sorted linked list.\n",
        "\n",
        "\n",
        "class ListNode:\n",
        "    def __init__(self, val=0, next=None):\n",
        "        self.val = val\n",
        "        self.next = next\n",
        "\n",
        "def delete_duplicates(head):\n",
        "    current = head\n",
        "\n",
        "    while current and current.next:\n",
        "        if current.val == current.next.val:\n",
        "            current.next = current.next.next\n",
        "        else:\n",
        "            current = current.next\n",
        "\n",
        "    return head\n",
        "\n",
        "def print_linked_list(head):\n",
        "    current = head\n",
        "    while current:\n",
        "        print(current.val, end=\" -> \")\n",
        "        current = current.next\n",
        "\n",
        "\n",
        "head = ListNode(1)\n",
        "head.next = ListNode(2)\n",
        "head.next.next = ListNode(3)\n",
        "head.next.next.next = ListNode(3)\n",
        "head.next.next.next.next = ListNode(4)\n",
        "head.next.next.next.next.next = ListNode(4)\n",
        "head.next.next.next.next.next.next = ListNode(4)\n",
        "head.next.next.next.next.next.next.next = ListNode(5)\n",
        "\n",
        "\n",
        "head = delete_duplicates(head)\n",
        "\n",
        "print(\"After removing duplicates:\")\n",
        "print_linked_list(head)\n"
      ],
      "metadata": {
        "colab": {
          "base_uri": "https://localhost:8080/"
        },
        "id": "-HwX27PG2-YL",
        "outputId": "fe95e5f3-0f26-4d71-f8e5-2a6836701e47"
      },
      "execution_count": 14,
      "outputs": [
        {
          "output_type": "stream",
          "name": "stdout",
          "text": [
            "After removing duplicates:\n",
            "1 -> 2 -> 3 -> 4 -> 5 -> "
          ]
        }
      ]
    },
    {
      "cell_type": "code",
      "source": [
        "#7.Find the intersection of the two linkes lists\n",
        "\n",
        "\n",
        "\n",
        "class ListNode:\n",
        "    def __init__(self, val=0, next=None):\n",
        "        self.val = val\n",
        "        self.next = next\n",
        "\n",
        "def get_intersection_node(headA, headB):\n",
        "    if not headA or not headB:\n",
        "        return None\n",
        "\n",
        "    pointerA = headA\n",
        "    pointerB = headB\n",
        "\n",
        "    while pointerA != pointerB:\n",
        "        pointerA = pointerA.next if pointerA else headB\n",
        "        pointerB = pointerB.next if pointerB else headA\n",
        "\n",
        "    return pointerA\n",
        "\n",
        "def print_linked_list(head):\n",
        "    current = head\n",
        "    while current:\n",
        "        print(current.val, end=\" -> \")\n",
        "        current = current.next\n",
        "    print(\"null\")\n",
        "\n",
        "\n",
        "intersect_node = ListNode(1)\n",
        "intersect_node.next = ListNode(6)\n",
        "intersect_node.next.next = ListNode(7)\n",
        "\n",
        "headA = ListNode(1)\n",
        "headA.next = ListNode(2)\n",
        "headA.next.next = ListNode(3)\n",
        "headA.next.next.next = ListNode(4)\n",
        "headA.next.next.next.next = ListNode(8)\n",
        "headA.next.next.next.next.next = ListNode(6)\n",
        "headA.next.next.next.next.next.next = ListNode(9)\n",
        "headA.next.next.next.next.next.next.next = intersect_node\n",
        "\n",
        "headB = ListNode(5)\n",
        "headB.next = intersect_node\n",
        "\n",
        "print(\"Linked list A:\")\n",
        "print_linked_list(headA)\n",
        "\n",
        "print(\"Linked list B:\")\n",
        "print_linked_list(headB)\n",
        "\n",
        "intersection_node = get_intersection_node(headA, headB)\n",
        "\n",
        "if intersection_node:\n",
        "    print(f\"Intersection node value: {intersection_node.val}\")\n",
        "else:\n",
        "    print(\"No intersection found\")\n"
      ],
      "metadata": {
        "colab": {
          "base_uri": "https://localhost:8080/"
        },
        "id": "CnxPlcKF3se6",
        "outputId": "0ec6956f-6edc-4f85-ac7e-bc310141189b"
      },
      "execution_count": 16,
      "outputs": [
        {
          "output_type": "stream",
          "name": "stdout",
          "text": [
            "Linked list A:\n",
            "1 -> 2 -> 3 -> 4 -> 8 -> 6 -> 9 -> 1 -> 6 -> 7 -> null\n",
            "Linked list B:\n",
            "5 -> 1 -> 6 -> 7 -> null\n",
            "Intersection node value: 1\n"
          ]
        }
      ]
    },
    {
      "cell_type": "code",
      "source": [
        "#8.Rotate a linked list by k position to the right\n",
        "\n",
        "\n",
        "class ListNode:\n",
        "    def __init__(self, val=0, next=None):\n",
        "        self.val = val\n",
        "        self.next = next\n",
        "\n",
        "def rotate_right(head, k):\n",
        "    if not head or k == 0:\n",
        "        return head\n",
        "\n",
        "    length = 1\n",
        "    tail = head\n",
        "    while tail.next:\n",
        "        tail = tail.next\n",
        "        length += 1\n",
        "\n",
        "    k = k % length\n",
        "    if k == 0:\n",
        "        return head\n",
        "\n",
        "    prev = head\n",
        "    for _ in range(length - k - 1):\n",
        "        prev = prev.next\n",
        "\n",
        "    new_head = prev.next\n",
        "    prev.next = None\n",
        "    tail.next = head\n",
        "\n",
        "    return new_head\n",
        "\n",
        "def create_linked_list(values):\n",
        "    if not values:\n",
        "        return None\n",
        "\n",
        "    head = ListNode(values[0])\n",
        "    current = head\n",
        "    for value in values[1:]:\n",
        "        current.next = ListNode(value)\n",
        "        current = current.next\n",
        "\n",
        "    return head\n",
        "\n",
        "def print_linked_list(head):\n",
        "    current = head\n",
        "    while current:\n",
        "        print(current.val, end=\" -> \")\n",
        "        current = current.next\n",
        "\n",
        "\n",
        "values = [1, 2, 3, 4, 8, 6, 9]\n",
        "head = create_linked_list(values)\n",
        "k = 2\n",
        "\n",
        "\n",
        "\n",
        "rotated_head = rotate_right(head, k)\n",
        "\n",
        "print(f\"After rotating {k} times to the right:\")\n",
        "print_linked_list(rotated_head)\n",
        "\n"
      ],
      "metadata": {
        "colab": {
          "base_uri": "https://localhost:8080/"
        },
        "id": "r0be2pKo4Kss",
        "outputId": "2143dda4-f51b-476f-847d-3592f096b508"
      },
      "execution_count": 20,
      "outputs": [
        {
          "output_type": "stream",
          "name": "stdout",
          "text": [
            "After rotating 2 times to the right:\n",
            "6 -> 9 -> 1 -> 2 -> 3 -> 4 -> 8 -> "
          ]
        }
      ]
    },
    {
      "cell_type": "code",
      "source": [
        "#9.Add Two numbers represented by linkedlists\n",
        "\n",
        "\n",
        "class ListNode:\n",
        "    def __init__(self, val=0, next=None):\n",
        "        self.val = val\n",
        "        self.next = next\n",
        "\n",
        "def add_two_numbers(l1, l2):\n",
        "    dummy = ListNode()\n",
        "    current = dummy\n",
        "    carry = 0\n",
        "\n",
        "    while l1 or l2 or carry:\n",
        "        sum_val = carry\n",
        "        if l1:\n",
        "            sum_val += l1.val\n",
        "            l1 = l1.next\n",
        "        if l2:\n",
        "            sum_val += l2.val\n",
        "            l2 = l2.next\n",
        "\n",
        "        carry = sum_val // 10\n",
        "        current.next = ListNode(sum_val % 10)\n",
        "        current = current.next\n",
        "\n",
        "    return dummy.next\n",
        "\n",
        "def create_linked_list(values):\n",
        "    if not values:\n",
        "        return None\n",
        "\n",
        "    head = ListNode(values[0])\n",
        "    current = head\n",
        "    for value in values[1:]:\n",
        "        current.next = ListNode(value)\n",
        "        current = current.next\n",
        "\n",
        "    return head\n",
        "\n",
        "def print_linked_list(head):\n",
        "    current = head\n",
        "    while current:\n",
        "        print(current.val, end=\" -> \")\n",
        "        current = current.next\n",
        "    print(\"null\")\n",
        "\n",
        "\n",
        "l1 = create_linked_list([2, 4, 3])\n",
        "l2 = create_linked_list([5, 6, 4])\n",
        "\n",
        "print(\"Linked list 1:\")\n",
        "print_linked_list(l1)\n",
        "\n",
        "print(\"Linked list 2:\")\n",
        "print_linked_list(l2)\n",
        "\n",
        "result = add_two_numbers(l1, l2)\n",
        "\n",
        "print(\"Result of addition:\")\n",
        "print_linked_list(result)\n"
      ],
      "metadata": {
        "colab": {
          "base_uri": "https://localhost:8080/"
        },
        "id": "UTEgkyE041K8",
        "outputId": "6d5a80f3-5b9e-4804-edd8-4f2b10ed3626"
      },
      "execution_count": 22,
      "outputs": [
        {
          "output_type": "stream",
          "name": "stdout",
          "text": [
            "Linked list 1:\n",
            "2 -> 4 -> 3 -> null\n",
            "Linked list 2:\n",
            "5 -> 6 -> 4 -> null\n",
            "Result of addition:\n",
            "7 -> 0 -> 8 -> null\n"
          ]
        }
      ]
    },
    {
      "cell_type": "code",
      "source": [
        "#10.clone a linked list with next and random pointer\n",
        "\n",
        "class Node:\n",
        "    def __init__(self, val=0, next=None, random=None):\n",
        "        self.val = val\n",
        "        self.next = next\n",
        "        self.random = random\n",
        "\n",
        "def clone_linked_list(head):\n",
        "    if not head:\n",
        "        return None\n",
        "\n",
        "    clone_map = {}\n",
        "\n",
        "    current = head\n",
        "    while current:\n",
        "        clone_map[current] = Node(current.val)\n",
        "        current = current.next\n",
        "\n",
        "    current = head\n",
        "    while current:\n",
        "        clone_map[current].next = clone_map.get(current.next)\n",
        "        clone_map[current].random = clone_map.get(current.random)\n",
        "        current = current.next\n",
        "\n",
        "    return clone_map[head]\n",
        "\n",
        "def print_linked_list(head):\n",
        "    current = head\n",
        "    while current:\n",
        "        random_val = current.random.val if current.random else None\n",
        "        print(f\"Value: {current.val}, Next: {current.next.val if current.next else None}, Random: {random_val}\")\n",
        "        current = current.next\n",
        "\n",
        "head = Node(1)\n",
        "head.next = Node(2)\n",
        "head.next.next = Node(3)\n",
        "head.next.next.next = Node(4)\n",
        "\n",
        "head.random = head.next.next\n",
        "head.next.random = head\n",
        "head.next.next.random = head.next.next.next\n",
        "head.next.next.next.random = head.next\n",
        "\n",
        "print(\"Original linked list:\")\n",
        "print_linked_list(head)\n",
        "\n",
        "cloned_head = clone_linked_list(head)\n",
        "\n",
        "print(\"\\nCloned linked list:\")\n",
        "print_linked_list(cloned_head)\n",
        "\n"
      ],
      "metadata": {
        "colab": {
          "base_uri": "https://localhost:8080/"
        },
        "id": "tx7K3GJz5ejc",
        "outputId": "5d256934-5bdc-4667-ede9-3e69e7320564"
      },
      "execution_count": 24,
      "outputs": [
        {
          "output_type": "stream",
          "name": "stdout",
          "text": [
            "Original linked list:\n",
            "Value: 1, Next: 2, Random: 3\n",
            "Value: 2, Next: 3, Random: 1\n",
            "Value: 3, Next: 4, Random: 4\n",
            "Value: 4, Next: None, Random: 2\n",
            "\n",
            "Cloned linked list:\n",
            "Value: 1, Next: 2, Random: 3\n",
            "Value: 2, Next: 3, Random: 1\n",
            "Value: 3, Next: 4, Random: 4\n",
            "Value: 4, Next: None, Random: 2\n"
          ]
        }
      ]
    },
    {
      "cell_type": "code",
      "source": [],
      "metadata": {
        "id": "uPZVxBCe6glA"
      },
      "execution_count": null,
      "outputs": []
    }
  ]
}